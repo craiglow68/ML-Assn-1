{
 "cells": [
  {
   "cell_type": "markdown",
   "metadata": {},
   "source": [
    "# Classify Flowers Using Measurements"
   ]
  },
  {
   "cell_type": "markdown",
   "metadata": {},
   "source": [
    "This example is from: https://machinelearningmastery.com/tutorial-to-implement-k-nearest-neighbors-in-python-from-scratch/\n",
    "\n",
    "The test problem we will be using in this tutorial is iris classification.\n",
    "\n",
    "Based on the sepal length, sepal width, petal length and petal width of 150 observations of iris flowers, we need to implement a classification model to predict the species, which is one of setosa, versicolor or virginica.\n",
    "\n",
    "It is a standard dataset where the species is known for all instances. As such we can split the data into training and test datasets and use the results to evaluate our algorithm implementation. Good classification accuracy on this problem is above 90% correct, typically 96% or better.\n",
    "\n",
    "Here is a iris flower image:\n",
    "<img src=\"iris_petal_sepal.png\" />"
   ]
  },
  {
   "cell_type": "markdown",
   "metadata": {},
   "source": [
    "# How to implement k-Nearest Neighbors in Python"
   ]
  },
  {
   "cell_type": "markdown",
   "metadata": {},
   "source": [
    "This tutorial is broken down into the following steps:\n",
    "\n",
    "1. Handle Data: Open the dataset from CSV and split into test/train datasets.\n",
    "2. Similarity: Calculate the distance between two data instances.\n",
    "3. Neighbors: Locate k most similar data instances.\n",
    "4. Response: Generate a response from a set of data instances.\n",
    "5. Accuracy: Summarize the accuracy of predictions.\n",
    "6. Main: Tie it all together.\n"
   ]
  },
  {
   "cell_type": "markdown",
   "metadata": {},
   "source": [
    "## 1. Handle Data"
   ]
  },
  {
   "cell_type": "markdown",
   "metadata": {},
   "source": [
    "The first thing we need to do is load our data file. The data is in CSV format without a header line or any quotes. We can open the file with the open function and read the data lines using the reader function in the csv module."
   ]
  },
  {
   "cell_type": "code",
   "execution_count": 2,
   "metadata": {},
   "outputs": [
    {
     "name": "stdout",
     "output_type": "stream",
     "text": [
      "['5.1', '3.5', '1.4', '0.2', 'Iris-setosa']\n",
      "['4.9', '3.0', '1.4', '0.2', 'Iris-setosa']\n",
      "['4.7', '3.2', '1.3', '0.2', 'Iris-setosa']\n",
      "['4.6', '3.1', '1.5', '0.2', 'Iris-setosa']\n",
      "['5.0', '3.6', '1.4', '0.2', 'Iris-setosa']\n",
      "['5.4', '3.9', '1.7', '0.4', 'Iris-setosa']\n",
      "['4.6', '3.4', '1.4', '0.3', 'Iris-setosa']\n",
      "['5.0', '3.4', '1.5', '0.2', 'Iris-setosa']\n",
      "['4.4', '2.9', '1.4', '0.2', 'Iris-setosa']\n",
      "['4.9', '3.1', '1.5', '0.1', 'Iris-setosa']\n",
      "['5.4', '3.7', '1.5', '0.2', 'Iris-setosa']\n",
      "['4.8', '3.4', '1.6', '0.2', 'Iris-setosa']\n",
      "['4.8', '3.0', '1.4', '0.1', 'Iris-setosa']\n",
      "['4.3', '3.0', '1.1', '0.1', 'Iris-setosa']\n",
      "['5.8', '4.0', '1.2', '0.2', 'Iris-setosa']\n",
      "['5.7', '4.4', '1.5', '0.4', 'Iris-setosa']\n",
      "['5.4', '3.9', '1.3', '0.4', 'Iris-setosa']\n",
      "['5.1', '3.5', '1.4', '0.3', 'Iris-setosa']\n",
      "['5.7', '3.8', '1.7', '0.3', 'Iris-setosa']\n",
      "['5.1', '3.8', '1.5', '0.3', 'Iris-setosa']\n",
      "['5.4', '3.4', '1.7', '0.2', 'Iris-setosa']\n",
      "['5.1', '3.7', '1.5', '0.4', 'Iris-setosa']\n",
      "['4.6', '3.6', '1.0', '0.2', 'Iris-setosa']\n",
      "['5.1', '3.3', '1.7', '0.5', 'Iris-setosa']\n",
      "['4.8', '3.4', '1.9', '0.2', 'Iris-setosa']\n",
      "['5.0', '3.0', '1.6', '0.2', 'Iris-setosa']\n",
      "['5.0', '3.4', '1.6', '0.4', 'Iris-setosa']\n",
      "['5.2', '3.5', '1.5', '0.2', 'Iris-setosa']\n",
      "['5.2', '3.4', '1.4', '0.2', 'Iris-setosa']\n",
      "['4.7', '3.2', '1.6', '0.2', 'Iris-setosa']\n",
      "['4.8', '3.1', '1.6', '0.2', 'Iris-setosa']\n",
      "['5.4', '3.4', '1.5', '0.4', 'Iris-setosa']\n",
      "['5.2', '4.1', '1.5', '0.1', 'Iris-setosa']\n",
      "['5.5', '4.2', '1.4', '0.2', 'Iris-setosa']\n",
      "['4.9', '3.1', '1.5', '0.1', 'Iris-setosa']\n",
      "['5.0', '3.2', '1.2', '0.2', 'Iris-setosa']\n",
      "['5.5', '3.5', '1.3', '0.2', 'Iris-setosa']\n",
      "['4.9', '3.1', '1.5', '0.1', 'Iris-setosa']\n",
      "['4.4', '3.0', '1.3', '0.2', 'Iris-setosa']\n",
      "['5.1', '3.4', '1.5', '0.2', 'Iris-setosa']\n",
      "['5.0', '3.5', '1.3', '0.3', 'Iris-setosa']\n",
      "['4.5', '2.3', '1.3', '0.3', 'Iris-setosa']\n",
      "['4.4', '3.2', '1.3', '0.2', 'Iris-setosa']\n",
      "['5.0', '3.5', '1.6', '0.6', 'Iris-setosa']\n",
      "['5.1', '3.8', '1.9', '0.4', 'Iris-setosa']\n",
      "['4.8', '3.0', '1.4', '0.3', 'Iris-setosa']\n",
      "['5.1', '3.8', '1.6', '0.2', 'Iris-setosa']\n",
      "['4.6', '3.2', '1.4', '0.2', 'Iris-setosa']\n",
      "['5.3', '3.7', '1.5', '0.2', 'Iris-setosa']\n",
      "['5.0', '3.3', '1.4', '0.2', 'Iris-setosa']\n",
      "['7.0', '3.2', '4.7', '1.4', 'Iris-versicolor']\n",
      "['6.4', '3.2', '4.5', '1.5', 'Iris-versicolor']\n",
      "['6.9', '3.1', '4.9', '1.5', 'Iris-versicolor']\n",
      "['5.5', '2.3', '4.0', '1.3', 'Iris-versicolor']\n",
      "['6.5', '2.8', '4.6', '1.5', 'Iris-versicolor']\n",
      "['5.7', '2.8', '4.5', '1.3', 'Iris-versicolor']\n",
      "['6.3', '3.3', '4.7', '1.6', 'Iris-versicolor']\n",
      "['4.9', '2.4', '3.3', '1.0', 'Iris-versicolor']\n",
      "['6.6', '2.9', '4.6', '1.3', 'Iris-versicolor']\n",
      "['5.2', '2.7', '3.9', '1.4', 'Iris-versicolor']\n",
      "['5.0', '2.0', '3.5', '1.0', 'Iris-versicolor']\n",
      "['5.9', '3.0', '4.2', '1.5', 'Iris-versicolor']\n",
      "['6.0', '2.2', '4.0', '1.0', 'Iris-versicolor']\n",
      "['6.1', '2.9', '4.7', '1.4', 'Iris-versicolor']\n",
      "['5.6', '2.9', '3.6', '1.3', 'Iris-versicolor']\n",
      "['6.7', '3.1', '4.4', '1.4', 'Iris-versicolor']\n",
      "['5.6', '3.0', '4.5', '1.5', 'Iris-versicolor']\n",
      "['5.8', '2.7', '4.1', '1.0', 'Iris-versicolor']\n",
      "['6.2', '2.2', '4.5', '1.5', 'Iris-versicolor']\n",
      "['5.6', '2.5', '3.9', '1.1', 'Iris-versicolor']\n",
      "['5.9', '3.2', '4.8', '1.8', 'Iris-versicolor']\n",
      "['6.1', '2.8', '4.0', '1.3', 'Iris-versicolor']\n",
      "['6.3', '2.5', '4.9', '1.5', 'Iris-versicolor']\n",
      "['6.1', '2.8', '4.7', '1.2', 'Iris-versicolor']\n",
      "['6.4', '2.9', '4.3', '1.3', 'Iris-versicolor']\n",
      "['6.6', '3.0', '4.4', '1.4', 'Iris-versicolor']\n",
      "['6.8', '2.8', '4.8', '1.4', 'Iris-versicolor']\n",
      "['6.7', '3.0', '5.0', '1.7', 'Iris-versicolor']\n",
      "['6.0', '2.9', '4.5', '1.5', 'Iris-versicolor']\n",
      "['5.7', '2.6', '3.5', '1.0', 'Iris-versicolor']\n",
      "['5.5', '2.4', '3.8', '1.1', 'Iris-versicolor']\n",
      "['5.5', '2.4', '3.7', '1.0', 'Iris-versicolor']\n",
      "['5.8', '2.7', '3.9', '1.2', 'Iris-versicolor']\n",
      "['6.0', '2.7', '5.1', '1.6', 'Iris-versicolor']\n",
      "['5.4', '3.0', '4.5', '1.5', 'Iris-versicolor']\n",
      "['6.0', '3.4', '4.5', '1.6', 'Iris-versicolor']\n",
      "['6.7', '3.1', '4.7', '1.5', 'Iris-versicolor']\n",
      "['6.3', '2.3', '4.4', '1.3', 'Iris-versicolor']\n",
      "['5.6', '3.0', '4.1', '1.3', 'Iris-versicolor']\n",
      "['5.5', '2.5', '4.0', '1.3', 'Iris-versicolor']\n",
      "['5.5', '2.6', '4.4', '1.2', 'Iris-versicolor']\n",
      "['6.1', '3.0', '4.6', '1.4', 'Iris-versicolor']\n",
      "['5.8', '2.6', '4.0', '1.2', 'Iris-versicolor']\n",
      "['5.0', '2.3', '3.3', '1.0', 'Iris-versicolor']\n",
      "['5.6', '2.7', '4.2', '1.3', 'Iris-versicolor']\n",
      "['5.7', '3.0', '4.2', '1.2', 'Iris-versicolor']\n",
      "['5.7', '2.9', '4.2', '1.3', 'Iris-versicolor']\n",
      "['6.2', '2.9', '4.3', '1.3', 'Iris-versicolor']\n",
      "['5.1', '2.5', '3.0', '1.1', 'Iris-versicolor']\n",
      "['5.7', '2.8', '4.1', '1.3', 'Iris-versicolor']\n",
      "['6.3', '3.3', '6.0', '2.5', 'Iris-virginica']\n",
      "['5.8', '2.7', '5.1', '1.9', 'Iris-virginica']\n",
      "['7.1', '3.0', '5.9', '2.1', 'Iris-virginica']\n",
      "['6.3', '2.9', '5.6', '1.8', 'Iris-virginica']\n",
      "['6.5', '3.0', '5.8', '2.2', 'Iris-virginica']\n",
      "['7.6', '3.0', '6.6', '2.1', 'Iris-virginica']\n",
      "['4.9', '2.5', '4.5', '1.7', 'Iris-virginica']\n",
      "['7.3', '2.9', '6.3', '1.8', 'Iris-virginica']\n",
      "['6.7', '2.5', '5.8', '1.8', 'Iris-virginica']\n",
      "['7.2', '3.6', '6.1', '2.5', 'Iris-virginica']\n",
      "['6.5', '3.2', '5.1', '2.0', 'Iris-virginica']\n",
      "['6.4', '2.7', '5.3', '1.9', 'Iris-virginica']\n",
      "['6.8', '3.0', '5.5', '2.1', 'Iris-virginica']\n",
      "['5.7', '2.5', '5.0', '2.0', 'Iris-virginica']\n",
      "['5.8', '2.8', '5.1', '2.4', 'Iris-virginica']\n",
      "['6.4', '3.2', '5.3', '2.3', 'Iris-virginica']\n",
      "['6.5', '3.0', '5.5', '1.8', 'Iris-virginica']\n",
      "['7.7', '3.8', '6.7', '2.2', 'Iris-virginica']\n",
      "['7.7', '2.6', '6.9', '2.3', 'Iris-virginica']\n",
      "['6.0', '2.2', '5.0', '1.5', 'Iris-virginica']\n",
      "['6.9', '3.2', '5.7', '2.3', 'Iris-virginica']\n",
      "['5.6', '2.8', '4.9', '2.0', 'Iris-virginica']\n",
      "['7.7', '2.8', '6.7', '2.0', 'Iris-virginica']\n",
      "['6.3', '2.7', '4.9', '1.8', 'Iris-virginica']\n",
      "['6.7', '3.3', '5.7', '2.1', 'Iris-virginica']\n",
      "['7.2', '3.2', '6.0', '1.8', 'Iris-virginica']\n",
      "['6.2', '2.8', '4.8', '1.8', 'Iris-virginica']\n",
      "['6.1', '3.0', '4.9', '1.8', 'Iris-virginica']\n",
      "['6.4', '2.8', '5.6', '2.1', 'Iris-virginica']\n",
      "['7.2', '3.0', '5.8', '1.6', 'Iris-virginica']\n",
      "['7.4', '2.8', '6.1', '1.9', 'Iris-virginica']\n",
      "['7.9', '3.8', '6.4', '2.0', 'Iris-virginica']\n",
      "['6.4', '2.8', '5.6', '2.2', 'Iris-virginica']\n",
      "['6.3', '2.8', '5.1', '1.5', 'Iris-virginica']\n",
      "['6.1', '2.6', '5.6', '1.4', 'Iris-virginica']\n",
      "['7.7', '3.0', '6.1', '2.3', 'Iris-virginica']\n",
      "['6.3', '3.4', '5.6', '2.4', 'Iris-virginica']\n",
      "['6.4', '3.1', '5.5', '1.8', 'Iris-virginica']\n",
      "['6.0', '3.0', '4.8', '1.8', 'Iris-virginica']\n",
      "['6.9', '3.1', '5.4', '2.1', 'Iris-virginica']\n",
      "['6.7', '3.1', '5.6', '2.4', 'Iris-virginica']\n",
      "['6.9', '3.1', '5.1', '2.3', 'Iris-virginica']\n",
      "['5.8', '2.7', '5.1', '1.9', 'Iris-virginica']\n",
      "['6.8', '3.2', '5.9', '2.3', 'Iris-virginica']\n",
      "['6.7', '3.3', '5.7', '2.5', 'Iris-virginica']\n",
      "['6.7', '3.0', '5.2', '2.3', 'Iris-virginica']\n",
      "['6.3', '2.5', '5.0', '1.9', 'Iris-virginica']\n",
      "['6.5', '3.0', '5.2', '2.0', 'Iris-virginica']\n",
      "['6.2', '3.4', '5.4', '2.3', 'Iris-virginica']\n",
      "['5.9', '3.0', '5.1', '1.8', 'Iris-virginica']\n",
      "[]\n"
     ]
    }
   ],
   "source": [
    "import csv\n",
    "with open('iris.data', 'r') as csvfile:\n",
    "\tlines = csv.reader(csvfile)\n",
    "\tfor row in lines:\n",
    "\t\tprint(row)"
   ]
  },
  {
   "cell_type": "markdown",
   "metadata": {},
   "source": [
    "Next we need to split the data into a training dataset that kNN can use to make predictions and a test dataset that we can use to evaluate the accuracy of the model.\n",
    "\n",
    "We first need to convert the flower measures that were loaded as strings into numbers that we can work with. Next we need to split the data set randomly into train and datasets. A ratio of 67/33 for train/test is a standard ratio used.\n",
    "\n",
    "Pulling it all together, we can define a function called loadDataset that loads a CSV with the provided filename and splits it randomly into train and test datasets using the provided split ratio."
   ]
  },
  {
   "cell_type": "code",
   "execution_count": 3,
   "metadata": {},
   "outputs": [],
   "source": [
    "import csv\n",
    "import random\n",
    "def loadDataset(filename, split, trainingSet=[] , testSet=[]):\n",
    "\twith open(filename, 'r') as csvfile:\n",
    "\t    lines = csv.reader(csvfile)\n",
    "\t    dataset = list(lines)\n",
    "        # loop through each row\n",
    "\t    for x in range(len(dataset)-1):\n",
    "\t        for y in range(4):\n",
    "\t            dataset[x][y] = float(dataset[x][y])\n",
    "                # random.random() generate a number [0,1)\n",
    "\t        if random.random() < split:\n",
    "\t            trainingSet.append(dataset[x])\n",
    "\t        else:\n",
    "\t            testSet.append(dataset[x])"
   ]
  },
  {
   "cell_type": "markdown",
   "metadata": {},
   "source": [
    "We can test this function out with our iris dataset, as follows:"
   ]
  },
  {
   "cell_type": "code",
   "execution_count": 13,
   "metadata": {},
   "outputs": [
    {
     "name": "stdout",
     "output_type": "stream",
     "text": [
      "0.8598342756989173\n",
      "Train: 102\n",
      "Test: 48\n"
     ]
    }
   ],
   "source": [
    "trainingSet=[]\n",
    "testSet=[]\n",
    "loadDataset('iris.data', 0.66, trainingSet, testSet)\n",
    "print(random.random())\n",
    "# repr() Return a string containing a printable representation\n",
    "print('Train: ' + repr(len(trainingSet)))\n",
    "print('Test: ' + repr(len(testSet)))"
   ]
  },
  {
   "cell_type": "markdown",
   "metadata": {},
   "source": [
    "## 2. Similarity"
   ]
  },
  {
   "cell_type": "markdown",
   "metadata": {},
   "source": [
    "In order to make predictions we need to calculate the similarity between any two given data instances. This is needed so that we can locate the k most similar data instances in the training dataset for a given member of the test dataset and in turn make a prediction.\n",
    "\n",
    "Given that all four flower measurements are numeric and have the same units, we can directly use the Euclidean distance measure. This is defined as the square root of the sum of the squared differences between the two arrays of numbers (read that again a few times and let it sink in).\n",
    "\n",
    "Additionally, we want to control which fields to include in the distance calculation. Specifically, we only want to include the first 4 attributes. One approach is to limit the euclidean distance to a fixed length, ignoring the final dimension.\n",
    "\n",
    "Putting all of this together we can define the euclideanDistance function as follows:"
   ]
  },
  {
   "cell_type": "code",
   "execution_count": 15,
   "metadata": {},
   "outputs": [],
   "source": [
    "import math\n",
    "def euclideanDistance(instance1, instance2, length):\n",
    "\tdistance = 0\n",
    "\tfor x in range(length):\n",
    "\t\tdistance += pow((instance1[x] - instance2[x]), 2)\n",
    "\treturn math.sqrt(distance)"
   ]
  },
  {
   "cell_type": "code",
   "execution_count": null,
   "metadata": {},
   "outputs": [],
   "source": [
    "We can test this function with some sample data, as follows:"
   ]
  },
  {
   "cell_type": "code",
   "execution_count": 18,
   "metadata": {},
   "outputs": [
    {
     "name": "stdout",
     "output_type": "stream",
     "text": [
      "Distance: 4.0\n"
     ]
    }
   ],
   "source": [
    "data1 = [2, 2, 2, 2, 'a']\n",
    "data2 = [4, 4, 4, 4, 'b']\n",
    "distance = euclideanDistance(data1, data2, 4)\n",
    "print('Distance: ' + repr(distance))"
   ]
  },
  {
   "cell_type": "markdown",
   "metadata": {},
   "source": [
    "## 3. Neighbors"
   ]
  },
  {
   "cell_type": "markdown",
   "metadata": {},
   "source": [
    "Now that we have a similarity measure, we can use it collect the k most similar instances for a given unseen instance.\n",
    "\n",
    "This is a straight forward process of calculating the distance for all instances and selecting a subset with the smallest distance values.\n",
    "\n",
    "Below is the getNeighbors function that returns k most similar neighbors from the training set for a given test instance (using the already defined euclideanDistance function)"
   ]
  },
  {
   "cell_type": "code",
   "execution_count": 34,
   "metadata": {},
   "outputs": [],
   "source": [
    "import operator \n",
    "def getNeighbors(trainingSet, testInstance, k):\n",
    "\tdistances = []\n",
    "\tlength = len(testInstance)-1\n",
    "\tfor x in range(len(trainingSet)):\n",
    "\t\tdist = euclideanDistance(testInstance, trainingSet[x], length)\n",
    "\t\tdistances.append((trainingSet[x], dist))\n",
    "    # key=operator.itemgetter(1) => order distances list based on second column (1)\n",
    "\tdistances.sort(key=operator.itemgetter(1))\n",
    "\tneighbors = []\n",
    "\tfor x in range(k):\n",
    "\t\tneighbors.append(distances[x][0])\n",
    "\treturn neighbors"
   ]
  },
  {
   "cell_type": "markdown",
   "metadata": {},
   "source": [
    "We can test out this function as follows:"
   ]
  },
  {
   "cell_type": "code",
   "execution_count": 35,
   "metadata": {},
   "outputs": [
    {
     "name": "stdout",
     "output_type": "stream",
     "text": [
      "[[4, 4, 4, 'b']]\n"
     ]
    }
   ],
   "source": [
    "trainSet = [[2, 2, 2, 'a'], [4, 4, 4, 'b']]\n",
    "testInstance = [5, 5, 5, 'b']\n",
    "k = 1\n",
    "neighbors = getNeighbors(trainSet, testInstance, k)\n",
    "print(neighbors)"
   ]
  },
  {
   "cell_type": "markdown",
   "metadata": {},
   "source": [
    "## 4. Response"
   ]
  },
  {
   "cell_type": "markdown",
   "metadata": {},
   "source": [
    "Once we have located the most similar neighbors for a test instance, the next task is to devise a predicted response based on those neighbors.\n",
    "\n",
    "We can do this by allowing each neighbor to vote for their class attribute, and take the majority vote as the prediction.\n",
    "\n",
    "Below provides a function for getting the majority voted response from a number of neighbors. It assumes the class is the last attribute for each neighbor."
   ]
  },
  {
   "cell_type": "code",
   "execution_count": 37,
   "metadata": {},
   "outputs": [],
   "source": [
    "import operator\n",
    "def getResponse(neighbors):\n",
    "    # classVotes is a dict, similar to JSON\n",
    "    # e.g., {'a': 1, 'b': 2}\n",
    "\tclassVotes = {}\n",
    "\tfor x in range(len(neighbors)):\n",
    "        # based on the last element\n",
    "\t\tresponse = neighbors[x][-1]\n",
    "\t\tif response in classVotes:\n",
    "\t\t\tclassVotes[response] += 1\n",
    "\t\telse:\n",
    "\t\t\tclassVotes[response] = 1\n",
    "    # reverse=True means the most voted item will be our response\n",
    "    # itemgetter(1): get the first item, i.e. item with most votes\n",
    "\tsortedVotes = sorted(classVotes.items(), key=operator.itemgetter(1), reverse=True)\n",
    "\treturn sortedVotes[0][0]"
   ]
  },
  {
   "cell_type": "markdown",
   "metadata": {},
   "source": [
    "We can test out this function with some test neighbors, as follows:"
   ]
  },
  {
   "cell_type": "code",
   "execution_count": 38,
   "metadata": {},
   "outputs": [
    {
     "name": "stdout",
     "output_type": "stream",
     "text": [
      "b\n"
     ]
    }
   ],
   "source": [
    "neighbors = [[1,1,1,1,'a'], [2,2,2,2,'a'], [3,3,3,3,'b']]\n",
    "response = getResponse(neighbors)\n",
    "print(response)"
   ]
  },
  {
   "cell_type": "markdown",
   "metadata": {},
   "source": [
    "This approach returns one response in the case of a draw, but you could handle such cases in a specific way, such as returning no response or selecting an unbiased random response."
   ]
  },
  {
   "cell_type": "markdown",
   "metadata": {},
   "source": [
    "## 5. Accuracy"
   ]
  },
  {
   "cell_type": "markdown",
   "metadata": {},
   "source": [
    "We have all of the pieces of the kNN algorithm in place. An important remaining concern is how to evaluate the accuracy of predictions.\n",
    "\n",
    "An easy way to evaluate the accuracy of the model is to calculate a ratio of the total correct predictions out of all predictions made, called the classification accuracy.\n",
    "\n",
    "Below is the getAccuracy function that sums the total correct predictions and returns the accuracy as a percentage of correct classifications."
   ]
  },
  {
   "cell_type": "code",
   "execution_count": 39,
   "metadata": {},
   "outputs": [],
   "source": [
    "def getAccuracy(testSet, predictions):\n",
    "\tcorrect = 0\n",
    "\tfor x in range(len(testSet)):\n",
    "\t\tif testSet[x][-1] is predictions[x]:\n",
    "\t\t\tcorrect += 1\n",
    "\treturn (correct/float(len(testSet))) * 100.0"
   ]
  },
  {
   "cell_type": "markdown",
   "metadata": {},
   "source": [
    "We can test this function with a test dataset and predictions, as follows:"
   ]
  },
  {
   "cell_type": "code",
   "execution_count": 24,
   "metadata": {
    "scrolled": true
   },
   "outputs": [
    {
     "name": "stdout",
     "output_type": "stream",
     "text": [
      "66.66666666666666\n"
     ]
    }
   ],
   "source": [
    "testSet = [[1,1,1,1,'a'], [2,2,2,2,'a'], [3,3,3,3,'b']]\n",
    "predictions = ['a', 'a', 'a']\n",
    "accuracy = getAccuracy(testSet, predictions)\n",
    "print(accuracy)"
   ]
  },
  {
   "cell_type": "markdown",
   "metadata": {},
   "source": [
    "## 6. Main"
   ]
  },
  {
   "cell_type": "markdown",
   "metadata": {},
   "source": [
    "We now have all the elements of the algorithm and we can tie them together with a main function.\n",
    "\n",
    "Below is the example of implementing the kNN algorithm from scratch in Python.\n",
    "\n",
    "Group Activity: You need to finish the TODO section."
   ]
  },
  {
   "cell_type": "code",
   "execution_count": 13,
   "metadata": {},
   "outputs": [
    {
     "name": "stdout",
     "output_type": "stream",
     "text": [
      "Collecting matplotlib\n",
      "  Downloading matplotlib-3.3.1-cp38-cp38-manylinux1_x86_64.whl (11.6 MB)\n",
      "\u001b[K     |████████████████████████████████| 11.6 MB 4.8 MB/s eta 0:00:01    |█████████████████████████       | 9.1 MB 5.6 MB/s eta 0:00:01     |██████████████████████████      | 9.4 MB 5.6 MB/s eta 0:00:01     |████████████████████████████▉   | 10.5 MB 5.6 MB/s eta 0:00:01\n",
      "\u001b[?25hRequirement already satisfied: python-dateutil>=2.1 in ./ml_project1_env/lib/python3.8/site-packages (from matplotlib) (2.8.1)\n",
      "Collecting certifi>=2020.06.20\n",
      "  Downloading certifi-2020.6.20-py2.py3-none-any.whl (156 kB)\n",
      "\u001b[K     |████████████████████████████████| 156 kB 5.3 MB/s eta 0:00:01\n",
      "\u001b[?25hRequirement already satisfied: pyparsing!=2.0.4,!=2.1.2,!=2.1.6,>=2.0.3 in ./ml_project1_env/lib/python3.8/site-packages (from matplotlib) (2.4.7)\n",
      "Collecting kiwisolver>=1.0.1\n",
      "  Downloading kiwisolver-1.2.0-cp38-cp38-manylinux1_x86_64.whl (92 kB)\n",
      "\u001b[K     |████████████████████████████████| 92 kB 196 kB/s  eta 0:00:01\n",
      "\u001b[?25hCollecting pillow>=6.2.0\n",
      "  Downloading Pillow-7.2.0-cp38-cp38-manylinux1_x86_64.whl (2.2 MB)\n",
      "\u001b[K     |████████████████████████████████| 2.2 MB 6.0 MB/s eta 0:00:01     |██                              | 133 kB 6.0 MB/s eta 0:00:01\n",
      "\u001b[?25hCollecting cycler>=0.10\n",
      "  Downloading cycler-0.10.0-py2.py3-none-any.whl (6.5 kB)\n",
      "Requirement already satisfied: numpy>=1.15 in ./ml_project1_env/lib/python3.8/site-packages (from matplotlib) (1.19.2)\n",
      "Requirement already satisfied: six>=1.5 in ./ml_project1_env/lib/python3.8/site-packages (from python-dateutil>=2.1->matplotlib) (1.15.0)\n",
      "Installing collected packages: certifi, kiwisolver, pillow, cycler, matplotlib\n",
      "Successfully installed certifi-2020.6.20 cycler-0.10.0 kiwisolver-1.2.0 matplotlib-3.3.1 pillow-7.2.0\n",
      "\u001b[33mWARNING: You are using pip version 20.2.2; however, version 20.2.3 is available.\n",
      "You should consider upgrading via the '/home/jacob/ml_projects/ml_project1_env/bin/python -m pip install --upgrade pip' command.\u001b[0m\n",
      "Note: you may need to restart the kernel to use updated packages.\n"
     ]
    }
   ],
   "source": [
    "pip install matplotlib"
   ]
  },
  {
   "cell_type": "code",
   "execution_count": 12,
   "metadata": {
    "scrolled": true
   },
   "outputs": [
    {
     "name": "stdout",
     "output_type": "stream",
     "text": [
      "Requirement already satisfied: sklearn in ./ml_project1_env/lib/python3.8/site-packages (0.0)\n",
      "Requirement already satisfied: scikit-learn in ./ml_project1_env/lib/python3.8/site-packages (from sklearn) (0.23.2)\n",
      "Requirement already satisfied: scipy>=0.19.1 in ./ml_project1_env/lib/python3.8/site-packages (from scikit-learn->sklearn) (1.5.2)\n",
      "Requirement already satisfied: numpy>=1.13.3 in ./ml_project1_env/lib/python3.8/site-packages (from scikit-learn->sklearn) (1.19.2)\n",
      "Requirement already satisfied: threadpoolctl>=2.0.0 in ./ml_project1_env/lib/python3.8/site-packages (from scikit-learn->sklearn) (2.1.0)\n",
      "Requirement already satisfied: joblib>=0.11 in ./ml_project1_env/lib/python3.8/site-packages (from scikit-learn->sklearn) (0.16.0)\n",
      "\u001b[33mWARNING: You are using pip version 20.2.2; however, version 20.2.3 is available.\n",
      "You should consider upgrading via the '/home/jacob/ml_projects/ml_project1_env/bin/python -m pip install --upgrade pip' command.\u001b[0m\n",
      "Note: you may need to restart the kernel to use updated packages.\n"
     ]
    }
   ],
   "source": [
    "pip install sklearn"
   ]
  },
  {
   "cell_type": "code",
   "execution_count": 32,
   "metadata": {
    "scrolled": true
   },
   "outputs": [
    {
     "name": "stdout",
     "output_type": "stream",
     "text": [
      "k= 1\n",
      "Average Accuracy:92.32767074896772%\n",
      "k= 2\n",
      "Average Accuracy:89.84942947430689%\n",
      "k= 3\n",
      "Average Accuracy:95.57710820177127%\n",
      "k= 4\n",
      "Average Accuracy:95.2657173120699%\n",
      "k= 5\n",
      "Average Accuracy:94.2589988801169%\n",
      "k= 6\n",
      "Average Accuracy:94.46722758068745%\n",
      "k= 7\n",
      "Average Accuracy:96.34682133723055%\n",
      "k= 8\n",
      "Average Accuracy:94.93627787307034%\n",
      "k= 9\n",
      "Average Accuracy:92.57755645314987%\n",
      "k= 10\n",
      "Average Accuracy:95.88310270504375%\n",
      "k= 11\n",
      "Average Accuracy:92.6209628945478%\n",
      "k= 12\n",
      "Average Accuracy:93.61739847454132%\n",
      "k= 13\n",
      "Average Accuracy:94.94721039940355%\n",
      "k= 14\n",
      "Average Accuracy:94.55066074987337%\n",
      "k= 15\n",
      "Average Accuracy:92.12378917378916%\n",
      "k= 16\n",
      "Average Accuracy:92.90682104027947%\n",
      "k= 17\n",
      "Average Accuracy:95.48662272300228%\n",
      "k= 18\n",
      "Average Accuracy:94.30748397580572%\n",
      "k= 19\n",
      "Average Accuracy:89.97121007647323%\n",
      "k= 20\n",
      "Average Accuracy:95.595818815331%\n",
      "\n",
      "Most Accurate K: 7\n",
      "Accuracy: 96.34682133723055\n"
     ]
    },
    {
     "data": {
      "image/png": "[encoded data removed]",
      "text/plain": [
       "<Figure size 432x288 with 1 Axes>"
      ]
     },
     "metadata": {
      "needs_background": "light"
     },
     "output_type": "display_data"
    }
   ],
   "source": [
    "# Example of kNN implemented from Scratch in Python\n",
    "\n",
    "import csv\n",
    "import random\n",
    "import math\n",
    "import operator\n",
    "from sklearn.neighbors import KNeighborsClassifier\n",
    "import matplotlib.pyplot as plt\n",
    "\n",
    "def loadDataset(filename, split, trainingSet=[] , testSet=[]):\n",
    "\twith open(filename, 'r') as csvfile:\n",
    "\t    lines = csv.reader(csvfile)\n",
    "\t    dataset = list(lines)\n",
    "\t    for x in range(len(dataset)-1):\n",
    "\t        for y in range(4):\n",
    "\t            dataset[x][y] = float(dataset[x][y])\n",
    "\t        if random.random() < split:\n",
    "\t            trainingSet.append(dataset[x])\n",
    "\t        else:\n",
    "\t            testSet.append(dataset[x])\n",
    "\n",
    "def getAccuracy(testSet, predictions):\n",
    "\tcorrect = 0\n",
    "\tfor x in range(len(testSet)):\n",
    "\t\tif testSet[x][-1] == predictions[x]:\n",
    "\t\t\tcorrect += 1\n",
    "\treturn (correct/float(len(testSet))) * 100.0\n",
    "\t\n",
    "    \n",
    "def kNeighbors(trainingSet, testSet, k):\n",
    "    cl = KNeighborsClassifier(n_neighbors=k)\n",
    "    features = []\n",
    "    label = []\n",
    "    \n",
    "    for x in range(len(trainingSet)):\n",
    "        features.append(trainingSet[x][:3]) #Create the list of features for each data value\n",
    "        label.append(trainingSet[x][4]) #Create the labels for the corresponding data\n",
    "        \n",
    "    cl.fit(features, label) #Train Model on Training Set\n",
    "    \n",
    "    predictions = []\n",
    "    \n",
    "    for x in range(len(testSet)):\n",
    "        predictions.append(cl.predict([testSet[x][0:3]]))\n",
    "    \n",
    "    return predictions\n",
    "\n",
    "def main():\n",
    "\n",
    "\trepetitions = 5\n",
    "\tnumK = 20\n",
    "\tmaxAcc, maxK = 0, 0\n",
    "    \n",
    "\taccuracies = []\n",
    "    \n",
    "\tfor y in range (numK):\n",
    "\t\tk = y+1\n",
    "\t\tsumOfAcc = 0 \n",
    "\t\tprint('k= ' + repr(k))\n",
    "        \n",
    "\t\tfor x in range(repetitions):\n",
    "\t\t\t# prepare data\n",
    "\t\t\ttrainingSet=[]\n",
    "\t\t\ttestSet=[]\n",
    "\t\t\tsplit = 0.67\n",
    "\t\t\tloadDataset('iris.data', split, trainingSet, testSet)\n",
    "\t\t\t# generate predictions\n",
    "\t\t\tpredictions=[]\n",
    "\n",
    "\t\t\t#Sklearn Classifier Code\n",
    "\t\t\tpredictions = kNeighbors(trainingSet, testSet, k)\n",
    "    \n",
    "\t\t\taccuracy = getAccuracy(testSet, predictions)\n",
    "\t\t\tsumOfAcc = sumOfAcc+accuracy\n",
    "    \n",
    "\t\tprint('Average Accuracy:' + repr(sumOfAcc / repetitions) + '%')\n",
    "\t\taccuracies.append((sumOfAcc / repetitions))\n",
    "                          \n",
    "\t\tif maxAcc < (sumOfAcc / repetitions):\n",
    "\t\t\tmaxAcc = (sumOfAcc / repetitions)\n",
    "\t\t\tmaxK = k\n",
    "            \n",
    "\tprint(\"\\nMost Accurate K: \" + repr(maxK))\n",
    "\tprint(\"Accuracy: \" + repr(maxAcc))\n",
    "    \n",
    "\tplt.plot(range(1, 21), accuracies)    \n",
    "\tplt.xlabel('k Neighbors')\n",
    "\tplt.ylabel('Accuracy')\n",
    "\tplt.xlim([0, 20])\n",
    "\tplt.xticks(range(1, 21))\n",
    "\tplt.yticks(range(85, 101))\n",
    "\tplt.show()\n",
    "main()"
   ]
  }
 ],
 "metadata": {
  "kernelspec": {
   "display_name": "Python 3",
   "language": "python",
   "name": "python3"
  },
  "language_info": {
   "codemirror_mode": {
    "name": "ipython",
    "version": 3
   },
   "file_extension": ".py",
   "mimetype": "text/x-python",
   "name": "python",
   "nbconvert_exporter": "python",
   "pygments_lexer": "ipython3",
   "version": "3.8.2"
  }
 },
 "nbformat": 4,
 "nbformat_minor": 2
}
